{
 "cells": [
  {
   "cell_type": "code",
   "execution_count": 8,
   "metadata": {},
   "outputs": [],
   "source": [
    "import os, sys\n",
    "current_path = os.getcwd()\n",
    "\n",
    "subdirectories = [_ for _ in os.walk(current_path)]\n",
    "\n",
    "for subdir in [_ for _ in os.walk(current_path)]:\n",
    "    for subsubdir in [_ for _ in os.walk(current_path)]:\n",
    "        for file in subsubdir[2]:\n",
    "            if len(file) <= 2:\n",
    "                file_path = os.path.join(subsubdir[0],file)\n",
    "                os.rename(file_path, file_path + '.pdf')"
   ]
  },
  {
   "cell_type": "code",
   "execution_count": null,
   "metadata": {},
   "outputs": [],
   "source": []
  }
 ],
 "metadata": {
  "kernelspec": {
   "display_name": "Python 3",
   "language": "python",
   "name": "python3"
  },
  "language_info": {
   "codemirror_mode": {
    "name": "ipython",
    "version": 3
   },
   "file_extension": ".py",
   "mimetype": "text/x-python",
   "name": "python",
   "nbconvert_exporter": "python",
   "pygments_lexer": "ipython3",
   "version": "3.7.3"
  }
 },
 "nbformat": 4,
 "nbformat_minor": 2
}
